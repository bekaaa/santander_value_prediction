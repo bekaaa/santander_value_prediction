{
 "cells": [
  {
   "cell_type": "code",
   "execution_count": 1,
   "metadata": {
    "collapsed": true
   },
   "outputs": [],
   "source": [
    "import numpy as np\n",
    "import pandas as pd\n",
    "import lightgbm as lgb\n",
    "from sklearn.model_selection import train_test_split"
   ]
  },
  {
   "cell_type": "code",
   "execution_count": 2,
   "metadata": {
    "collapsed": true
   },
   "outputs": [],
   "source": [
    "train = pd.read_csv('./data/final_train.csv.zip', compression='zip')\n",
    "test = pd.read_csv('./data/final_test.csv.zip', compression='zip')\n",
    "target = np.load('./data/target.npy')\n",
    "submission_ids = np.load('./data/submission_ids.npy')"
   ]
  },
  {
   "cell_type": "code",
   "execution_count": 10,
   "metadata": {
    "collapsed": true
   },
   "outputs": [],
   "source": [
    "tra_arr = train.values"
   ]
  },
  {
   "cell_type": "code",
   "execution_count": null,
   "metadata": {},
   "outputs": [],
   "source": []
  },
  {
   "cell_type": "code",
   "execution_count": 5,
   "metadata": {
    "collapsed": true
   },
   "outputs": [],
   "source": [
    "target = np.log1p(target)\n",
    "X_train, X_valid, Y_train, Y_valid = train_test_split(train, target, test_size=.15)\n",
    "\n",
    "\n",
    "train_lgb = lgb.Dataset(data=X_train, label=Y_train)\n",
    "valid_lgb = lgb.Dataset(data=X_valid, label=Y_valid)"
   ]
  },
  {
   "cell_type": "code",
   "execution_count": 16,
   "metadata": {
    "scrolled": true
   },
   "outputs": [
    {
     "name": "stderr",
     "output_type": "stream",
     "text": [
      "/home/khaledsfouda/anaconda3/lib/python3.5/site-packages/lightgbm/engine.py:102: UserWarning: Found `num_trees` in params. Will use it instead of argument\n",
      "  warnings.warn(\"Found `{}` in params. Will use it instead of argument\".format(alias))\n"
     ]
    },
    {
     "name": "stdout",
     "output_type": "stream",
     "text": [
      "Training until validation scores don't improve for 3000 rounds.\n",
      "[200]\tvalid_0's rmse: 1.46138\n",
      "[400]\tvalid_0's rmse: 1.46258\n",
      "[600]\tvalid_0's rmse: 1.46447\n",
      "[800]\tvalid_0's rmse: 1.46938\n",
      "[1000]\tvalid_0's rmse: 1.47322\n",
      "[1200]\tvalid_0's rmse: 1.47897\n",
      "[1400]\tvalid_0's rmse: 1.48256\n",
      "[1600]\tvalid_0's rmse: 1.48779\n",
      "[1800]\tvalid_0's rmse: 1.49155\n",
      "[2000]\tvalid_0's rmse: 1.49502\n",
      "[2200]\tvalid_0's rmse: 1.49771\n",
      "[2400]\tvalid_0's rmse: 1.49852\n",
      "[2600]\tvalid_0's rmse: 1.50136\n",
      "[2800]\tvalid_0's rmse: 1.50285\n",
      "[3000]\tvalid_0's rmse: 1.50441\n",
      "[3200]\tvalid_0's rmse: 1.50602\n",
      "Early stopping, best iteration is:\n",
      "[229]\tvalid_0's rmse: 1.46064\n"
     ]
    }
   ],
   "source": [
    "evaluation_results = {}\n",
    "\n",
    "params = {\n",
    "    'objective': 'regression_l2',\n",
    "    'metric': 'rmse',\n",
    "    'num_leaves': 40,\n",
    "    'learning_rate': 0.005,\n",
    "    'n_estimators': 10000,\n",
    "    'num_trees': 10000,\n",
    "    'bagging_fraction': 0.7,\n",
    "    'bagging_freq': 5,\n",
    "    'feature_fraction': 0.7,\n",
    "    'max_depth': 20,\n",
    "    'max_bin': 1200,\n",
    "    'verbosity': -1,\n",
    "    'nthread': 8\n",
    "    }\n",
    "params2 = {'learning_rate': 0.02,\n",
    "           'max_depth': 7, \n",
    "           'num_trees': 10000,\n",
    "           'boosting': 'gbdt',\n",
    "           'objective': 'regression', \n",
    "           'metric': 'rmse',\n",
    "           'is_training_metric': True}\n",
    "\n",
    "model = lgb.train(\n",
    "    params2,\n",
    "    train_set=train_lgb,\n",
    "    num_boost_round=1000,\n",
    "    valid_sets=valid_lgb,\n",
    "    early_stopping_rounds=3000,\n",
    "    evals_result=evaluation_results,\n",
    "    verbose_eval=200,\n",
    "    )"
   ]
  },
  {
   "cell_type": "code",
   "execution_count": 14,
   "metadata": {},
   "outputs": [
    {
     "data": {
      "text/plain": [
       "array([15.42172969, 14.42128566, 15.01805572, ..., 14.30287316,\n",
       "       11.97347652, 13.83798278])"
      ]
     },
     "execution_count": 14,
     "metadata": {},
     "output_type": "execute_result"
    }
   ],
   "source": [
    "model_predictions_test = model.predict(test, num_iteration=model.best_iteration)\n",
    "model_predictions_test"
   ]
  },
  {
   "cell_type": "code",
   "execution_count": 24,
   "metadata": {},
   "outputs": [
    {
     "data": {
      "text/plain": [
       "array([1502852.65510876, 1380918.27307585, 1779900.96795297, ...,\n",
       "        775817.5862978 , 1399569.78257816, 1392610.00407033])"
      ]
     },
     "execution_count": 24,
     "metadata": {},
     "output_type": "execute_result"
    }
   ],
   "source": [
    "model_predictions_test = np.expm1(model_predictions_test)\n",
    "model_predictions_test"
   ]
  },
  {
   "cell_type": "code",
   "execution_count": 25,
   "metadata": {
    "collapsed": true
   },
   "outputs": [],
   "source": [
    "dataset_submission = pd.DataFrame()\n",
    "dataset_submission['ID'] = submission_ids\n",
    "dataset_submission['target'] = model_predictions_test\n",
    "dataset_submission.to_csv('./data/submission.csv', index=False)"
   ]
  },
  {
   "cell_type": "code",
   "execution_count": null,
   "metadata": {
    "collapsed": true
   },
   "outputs": [],
   "source": []
  },
  {
   "cell_type": "code",
   "execution_count": 27,
   "metadata": {
    "collapsed": true
   },
   "outputs": [],
   "source": [
    "from sklearn.linear_model import LinearRegression\n",
    "from sklearn.metrics import mean_squared_error as rmse"
   ]
  },
  {
   "cell_type": "code",
   "execution_count": 18,
   "metadata": {
    "collapsed": true
   },
   "outputs": [],
   "source": [
    "lm = LinearRegression(n_jobs=8)\n"
   ]
  },
  {
   "cell_type": "code",
   "execution_count": 20,
   "metadata": {},
   "outputs": [
    {
     "data": {
      "text/plain": [
       "LinearRegression(copy_X=True, fit_intercept=True, n_jobs=8, normalize=False)"
      ]
     },
     "execution_count": 20,
     "metadata": {},
     "output_type": "execute_result"
    }
   ],
   "source": [
    "lm.fit(X_train, Y_train)"
   ]
  },
  {
   "cell_type": "code",
   "execution_count": 28,
   "metadata": {},
   "outputs": [
    {
     "data": {
      "text/plain": [
       "-0.013655981952804597"
      ]
     },
     "execution_count": 28,
     "metadata": {},
     "output_type": "execute_result"
    }
   ],
   "source": [
    "pr = lm.predict(X_valid)\n",
    "lm.score(X_valid, Y_valid)"
   ]
  },
  {
   "cell_type": "code",
   "execution_count": 23,
   "metadata": {},
   "outputs": [
    {
     "data": {
      "text/plain": [
       "array([14.2228763 , 14.13825998, 14.39206885, ..., 13.56167399,\n",
       "       14.15167616, 14.14669096])"
      ]
     },
     "execution_count": 23,
     "metadata": {},
     "output_type": "execute_result"
    }
   ],
   "source": [
    "model_predictions_test = lm.predict(test)\n",
    "model_predictions_test"
   ]
  },
  {
   "cell_type": "code",
   "execution_count": 29,
   "metadata": {},
   "outputs": [
    {
     "data": {
      "text/plain": [
       "2.9737467340917365"
      ]
     },
     "execution_count": 29,
     "metadata": {},
     "output_type": "execute_result"
    }
   ],
   "source": [
    "rmse(Y_valid, pr)"
   ]
  }
 ],
 "metadata": {
  "kernelspec": {
   "display_name": "Python 3",
   "language": "python",
   "name": "python3"
  },
  "language_info": {
   "codemirror_mode": {
    "name": "ipython",
    "version": 3
   },
   "file_extension": ".py",
   "mimetype": "text/x-python",
   "name": "python",
   "nbconvert_exporter": "python",
   "pygments_lexer": "ipython3",
   "version": "3.6.5"
  }
 },
 "nbformat": 4,
 "nbformat_minor": 2
}
