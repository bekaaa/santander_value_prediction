{
 "cells": [
  {
   "cell_type": "code",
   "execution_count": null,
   "metadata": {},
   "outputs": [],
   "source": []
  },
  {
   "cell_type": "code",
   "execution_count": 1,
   "metadata": {},
   "outputs": [],
   "source": [
    "import numpy as np\n",
    "import pandas as pd\n",
    "import lightgbm as lgb\n",
    "from sklearn.model_selection import train_test_split"
   ]
  },
  {
   "cell_type": "code",
   "execution_count": 2,
   "metadata": {},
   "outputs": [],
   "source": [
    "train = pd.read_csv('./data/final_train.csv.zip', compression='zip')\n",
    "#test = pd.read_csv('./data/final_test.csv.zip', compression='zip')\n",
    "target = np.load('./data/target.npy')\n",
    "#submission_ids = np.load('./data/submission_ids.npy')"
   ]
  },
  {
   "cell_type": "code",
   "execution_count": 3,
   "metadata": {},
   "outputs": [],
   "source": [
    "target = np.log1p(target)\n",
    "X_train, X_valid, Y_train, Y_valid = train_test_split(train, target, test_size=.15)\n",
    "\n",
    "\n",
    "train_lgb = lgb.Dataset(data=X_train, label=Y_train)\n",
    "valid_lgb = lgb.Dataset(data=X_valid, label=Y_valid)"
   ]
  },
  {
   "cell_type": "code",
   "execution_count": null,
   "metadata": {},
   "outputs": [],
   "source": []
  },
  {
   "cell_type": "code",
   "execution_count": null,
   "metadata": {},
   "outputs": [],
   "source": []
  },
  {
   "cell_type": "code",
   "execution_count": null,
   "metadata": {},
   "outputs": [],
   "source": []
  },
  {
   "cell_type": "code",
   "execution_count": null,
   "metadata": {},
   "outputs": [],
   "source": []
  },
  {
   "cell_type": "code",
   "execution_count": null,
   "metadata": {
    "scrolled": true
   },
   "outputs": [],
   "source": [
    "evaluation_results = {}\n",
    "\n",
    "params = {\n",
    "    'objective': 'regression_l2',\n",
    "    'metric': 'rmse',\n",
    "    'num_leaves': 40,\n",
    "    'learning_rate': 0.005,\n",
    "    'n_estimators': 10000,\n",
    "    'num_trees': 10000,\n",
    "    'bagging_fraction': 0.7,\n",
    "    'bagging_freq': 5,\n",
    "    'feature_fraction': 0.7,\n",
    "    'max_depth': 20,\n",
    "    'max_bin': 1200,\n",
    "    'verbosity': -1,\n",
    "    'nthread': 8\n",
    "    }\n",
    "params2 = { # control parameters\n",
    "            'bagging_fraction': 0.7,\n",
    "            'feature_fraction': 0.7,\n",
    "            'lambda' : .1,\n",
    "            'early_stopping_round' : 1000,\n",
    "            # core parameters\n",
    "            'task' : 'train',\n",
    "            'objective' : 'regression',\n",
    "            'boosting': 'gbdt',\n",
    "            'num_leaves': 40,\n",
    "            'learning_rate': 0.02,\n",
    "           # Metric\n",
    "           'metric': 'rmse',\n",
    "            # other\n",
    "            'max_depth': 10, \n",
    "           'num_trees': 10000\n",
    "    }\n",
    "model = lgb.train(\n",
    "    params2,\n",
    "    train_set=train_lgb,\n",
    "    num_boost_round=1000,\n",
    "    valid_sets=valid_lgb,\n",
    "    early_stopping_rounds=3000,\n",
    "    evals_result=evaluation_results,\n",
    "    verbose_eval=200,\n",
    "    )"
   ]
  },
  {
   "cell_type": "code",
   "execution_count": null,
   "metadata": {},
   "outputs": [],
   "source": [
    "model_predictions_test = model.predict(test, num_iteration=model.best_iteration)\n",
    "model_predictions_test"
   ]
  },
  {
   "cell_type": "code",
   "execution_count": null,
   "metadata": {},
   "outputs": [],
   "source": [
    "model_predictions_test = np.expm1(model_predictions_test)\n",
    "model_predictions_test"
   ]
  },
  {
   "cell_type": "code",
   "execution_count": null,
   "metadata": {},
   "outputs": [],
   "source": [
    "dataset_submission = pd.DataFrame()\n",
    "dataset_submission['ID'] = submission_ids\n",
    "dataset_submission['target'] = model_predictions_test\n",
    "dataset_submission.to_csv('./data/submission.csv', index=False)"
   ]
  },
  {
   "cell_type": "code",
   "execution_count": 5,
   "metadata": {},
   "outputs": [],
   "source": []
  },
  {
   "cell_type": "code",
   "execution_count": null,
   "metadata": {},
   "outputs": [],
   "source": [
    "from sklearn.linear_model import LinearRegression\n",
    "from sklearn.metrics import mean_squared_error as rmse"
   ]
  },
  {
   "cell_type": "code",
   "execution_count": null,
   "metadata": {},
   "outputs": [],
   "source": []
  },
  {
   "cell_type": "code",
   "execution_count": null,
   "metadata": {},
   "outputs": [],
   "source": []
  }
 ],
 "metadata": {
  "kernelspec": {
   "display_name": "Python 3",
   "language": "python",
   "name": "python3"
  },
  "language_info": {
   "codemirror_mode": {
    "name": "ipython",
    "version": 3
   },
   "file_extension": ".py",
   "mimetype": "text/x-python",
   "name": "python",
   "nbconvert_exporter": "python",
   "pygments_lexer": "ipython3",
   "version": "3.6.5"
  }
 },
 "nbformat": 4,
 "nbformat_minor": 2
}
