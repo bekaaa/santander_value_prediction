{
 "cells": [
  {
   "cell_type": "code",
   "execution_count": null,
   "metadata": {
    "collapsed": true
   },
   "outputs": [],
   "source": []
  },
  {
   "cell_type": "code",
   "execution_count": 1,
   "metadata": {
    "collapsed": true
   },
   "outputs": [],
   "source": [
    "import numpy as np\n",
    "import pandas as pd\n",
    "import _pickle as pickle"
   ]
  },
  {
   "cell_type": "code",
   "execution_count": 2,
   "metadata": {
    "collapsed": false
   },
   "outputs": [
    {
     "name": "stdout",
     "output_type": "stream",
     "text": [
      "Train :  (4459, 4993)\n"
     ]
    }
   ],
   "source": [
    "train = pd.read_csv('./data/train.csv')\n",
    "print(\"Train : \",train.shape)\n",
    "test = pd.read_csv('./data/test.csv.zip', compression='zip')"
   ]
  },
  {
   "cell_type": "code",
   "execution_count": 8,
   "metadata": {
    "collapsed": false
   },
   "outputs": [],
   "source": [
    "data=test.copy()"
   ]
  },
  {
   "cell_type": "code",
   "execution_count": 13,
   "metadata": {
    "collapsed": false
   },
   "outputs": [
    {
     "data": {
      "text/plain": [
       "(49342, 4991)"
      ]
     },
     "execution_count": 13,
     "metadata": {},
     "output_type": "execute_result"
    }
   ],
   "source": [
    "data.shape"
   ]
  },
  {
   "cell_type": "code",
   "execution_count": 15,
   "metadata": {
    "collapsed": false
   },
   "outputs": [
    {
     "data": {
      "text/plain": [
       "0.000000e+00    49059\n",
       "2.000000e+05       13\n",
       "3.000000e+05        7\n",
       "4.000000e+05        4\n",
       "5.000000e+05        4\n",
       "5.000000e+06        3\n",
       "2.066667e+05        3\n",
       "1.400000e+06        2\n",
       "4.208000e+05        2\n",
       "6.000000e+06        2\n",
       "2.300000e+06        2\n",
       "3.250000e+05        2\n",
       "8.000000e+05        2\n",
       "2.500000e+05        2\n",
       "2.571429e+05        2\n",
       "4.000000e+06        2\n",
       "3.000000e+06        2\n",
       "4.063776e+07        1\n",
       "1.400062e+03        1\n",
       "3.963322e+06        1\n",
       "5.159025e+07        1\n",
       "2.865148e+07        1\n",
       "6.299089e+05        1\n",
       "3.783982e+06        1\n",
       "7.041858e+05        1\n",
       "2.797152e+01        1\n",
       "2.166515e+03        1\n",
       "3.430864e+05        1\n",
       "2.794187e+06        1\n",
       "4.106024e+06        1\n",
       "                ...  \n",
       "4.704988e+05        1\n",
       "1.488716e+07        1\n",
       "2.400000e+05        1\n",
       "2.063052e+07        1\n",
       "2.605697e+03        1\n",
       "1.834663e+06        1\n",
       "1.491080e+06        1\n",
       "6.886323e+07        1\n",
       "2.446438e+07        1\n",
       "7.677254e+06        1\n",
       "2.996582e+07        1\n",
       "3.164343e+07        1\n",
       "7.184623e+06        1\n",
       "8.582618e+06        1\n",
       "2.547420e+06        1\n",
       "1.084762e+07        1\n",
       "2.461297e+07        1\n",
       "4.166585e+04        1\n",
       "4.129206e+07        1\n",
       "7.620000e+05        1\n",
       "2.335084e+06        1\n",
       "2.394162e+07        1\n",
       "7.779081e+06        1\n",
       "2.949869e+07        1\n",
       "9.407856e+06        1\n",
       "2.012635e+07        1\n",
       "1.671838e+05        1\n",
       "3.874322e+05        1\n",
       "3.997387e+07        1\n",
       "5.283139e+06        1\n",
       "Name: 3140, Length: 246, dtype: int64"
      ]
     },
     "execution_count": 15,
     "metadata": {},
     "output_type": "execute_result"
    }
   ],
   "source": []
  },
  {
   "cell_type": "code",
   "execution_count": 9,
   "metadata": {
    "collapsed": false,
    "scrolled": true
   },
   "outputs": [
    {
     "name": "stdout",
     "output_type": "stream",
     "text": [
      "0           4414\n",
      "400000        17\n",
      "1342000       11\n",
      "24600000       4\n",
      "3578000        1\n",
      "2300000        1\n",
      "1079000        1\n",
      "10000000       1\n",
      "1646000        1\n",
      "102000         1\n",
      "60000          1\n",
      "469500         1\n",
      "100000         1\n",
      "149000         1\n",
      "2000000        1\n",
      "1000000        1\n",
      "62000          1\n",
      "Name: 3140, dtype: int64\n"
     ]
    }
   ],
   "source": [
    "print(train[3140].value_counts())"
   ]
  },
  {
   "cell_type": "code",
   "execution_count": 10,
   "metadata": {
    "collapsed": false
   },
   "outputs": [],
   "source": [
    "# change columns' names to make it more readiable\n",
    "new_columns = ['ID']\n",
    "new_columns += range(len(data.columns)-1)\n",
    "cols_dict = { a:b for a,b in zip(data.columns, new_columns) }\n",
    "data.rename(columns=lambda d:cols_dict[d], inplace=True)\n",
    "#-----------------------------------------------\n",
    "# drop ID, we won't need it anyway\n",
    "data.drop(columns='ID', inplace=True)\n",
    "#----------------------------------\n",
    "# save to disk new train data\n"
   ]
  },
  {
   "cell_type": "code",
   "execution_count": 5,
   "metadata": {
    "collapsed": false
   },
   "outputs": [
    {
     "name": "stdout",
     "output_type": "stream",
     "text": [
      "<class 'pandas.core.frame.DataFrame'>\n",
      "Int64Index: 53801 entries, 0 to 49341\n",
      "Columns: 4992 entries, target to 4990\n",
      "dtypes: float64(4991), object(1)\n",
      "memory usage: 2.0+ GB\n"
     ]
    },
    {
     "data": {
      "text/plain": [
       "(53801, 4992)"
      ]
     },
     "execution_count": 5,
     "metadata": {},
     "output_type": "execute_result"
    }
   ],
   "source": [
    "# present some info\n",
    "data.head(5)\n",
    "data.info()\n",
    "data.shape"
   ]
  },
  {
   "cell_type": "code",
   "execution_count": null,
   "metadata": {
    "collapsed": true
   },
   "outputs": [],
   "source": []
  }
 ],
 "metadata": {
  "kernelspec": {
   "display_name": "Python 3",
   "language": "python",
   "name": "python3"
  },
  "language_info": {
   "codemirror_mode": {
    "name": "ipython",
    "version": 3
   },
   "file_extension": ".py",
   "mimetype": "text/x-python",
   "name": "python",
   "nbconvert_exporter": "python",
   "pygments_lexer": "ipython3",
   "version": "3.5.1"
  }
 },
 "nbformat": 4,
 "nbformat_minor": 2
}
